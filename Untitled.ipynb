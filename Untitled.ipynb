{
  "nbformat": 4,
  "nbformat_minor": 0,
  "metadata": {
    "colab": {
      "name": "Untitled",
      "provenance": [],
      "authorship_tag": "ABX9TyPXioX600XcRKD5okCxBxa7",
      "include_colab_link": true
    },
    "kernelspec": {
      "name": "python3",
      "display_name": "Python 3"
    },
    "language_info": {
      "name": "python"
    }
  },
  "cells": [
    {
      "cell_type": "markdown",
      "metadata": {
        "id": "view-in-github",
        "colab_type": "text"
      },
      "source": [
        "<a href=\"https://colab.research.google.com/github/viett887g/pandas4/blob/main/Untitled.ipynb\" target=\"_parent\"><img src=\"https://colab.research.google.com/assets/colab-badge.svg\" alt=\"Open In Colab\"/></a>"
      ]
    },
    {
      "cell_type": "markdown",
      "source": [
        "Câu 1: Xác định các thư viện cần dùng cho quá trình phân tích thống kê mô tả và đưa vào mã lệnh (sử dụng Google Colab)"
      ],
      "metadata": {
        "id": "beUgzzB3fLAL"
      }
    },
    {
      "cell_type": "code",
      "execution_count": null,
      "metadata": {
        "id": "gLWJH-pjet9I"
      },
      "outputs": [],
      "source": [
        "import pandas as pd #thư viện pandas\n",
        "import matplotlib.pyplot as plt #thư viện matplotlib\n",
        "import numpy as np #thư viện numpy\n",
        "import scipy.stats as stats #thư viện scipy\n",
        "import seaborn as sns #thư viện seaborn \n",
        "from matplotlib.ticker import PercentFormatter"
      ]
    },
    {
      "cell_type": "markdown",
      "source": [
        "Câu 2: Sử dụng tập dữ liệu Aircraft Wildlife Strikes, 1990-2015 để tiến hành phân tích thống kê\n",
        "mô tả."
      ],
      "metadata": {
        "id": "r8deHet3fIIS"
      }
    },
    {
      "cell_type": "code",
      "source": [
        "from google.colab import drive\n",
        "drive.mount('/content/gdrive')"
      ],
      "metadata": {
        "colab": {
          "base_uri": "https://localhost:8080/"
        },
        "id": "wuMfGEC0ewZS",
        "outputId": "b54164c8-d053-4a70-b8b8-ae09cb60fd38"
      },
      "execution_count": null,
      "outputs": [
        {
          "output_type": "stream",
          "name": "stdout",
          "text": [
            "Mounted at /content/gdrive\n"
          ]
        }
      ]
    },
    {
      "cell_type": "code",
      "source": [
        "import pandas as pd"
      ],
      "metadata": {
        "id": "9nl6vCHFe_Ca"
      },
      "execution_count": null,
      "outputs": []
    },
    {
      "cell_type": "code",
      "source": [
        "data =  pd.read_csv(\"/content/gdrive/MyDrive/database.csv\")"
      ],
      "metadata": {
        "colab": {
          "base_uri": "https://localhost:8080/"
        },
        "id": "_du6HywNfBO6",
        "outputId": "ddb6bbcb-cfa6-4f7c-b09e-0db00abdd753"
      },
      "execution_count": 39,
      "outputs": [
        {
          "output_type": "stream",
          "name": "stderr",
          "text": [
            "/usr/local/lib/python3.7/dist-packages/IPython/core/interactiveshell.py:2882: DtypeWarning: Columns (9,12,15,17) have mixed types.Specify dtype option on import or set low_memory=False.\n",
            "  exec(code_obj, self.user_global_ns, self.user_ns)\n"
          ]
        }
      ]
    },
    {
      "cell_type": "code",
      "source": [
        "print(data1)"
      ],
      "metadata": {
        "colab": {
          "base_uri": "https://localhost:8080/"
        },
        "id": "uHs2LRhpfDki",
        "outputId": "da36232a-672a-4d75-ae39-8f2c88e42eb9"
      },
      "execution_count": 10,
      "outputs": [
        {
          "output_type": "stream",
          "name": "stdout",
          "text": [
            "        Record ID  Incident Year  Incident Month  Incident Day Operator ID  \\\n",
            "0          127128           1990               1             1         DAL   \n",
            "1          129779           1990               1             1         HAL   \n",
            "2          129780           1990               1             2         UNK   \n",
            "3            2258           1990               1             3         MIL   \n",
            "4            2257           1990               1             3         MIL   \n",
            "...           ...            ...             ...           ...         ...   \n",
            "174099     366091           2015               9            30         SWA   \n",
            "174100     365902           2015               9            30         SWA   \n",
            "174101     365903           2015               9            30         BUS   \n",
            "174102     366046           2015               9            30         QXE   \n",
            "174103     365823           2015               9            30         AWI   \n",
            "\n",
            "                      Operator     Aircraft Aircraft Type Aircraft Make  \\\n",
            "0              DELTA AIR LINES    B-757-200             A           148   \n",
            "1                 HAWAIIAN AIR         DC-9             A           583   \n",
            "2                      UNKNOWN      UNKNOWN           NaN           NaN   \n",
            "3                     MILITARY        A-10A             A           345   \n",
            "4                     MILITARY         F-16             A           561   \n",
            "...                        ...          ...           ...           ...   \n",
            "174099      SOUTHWEST AIRLINES    B-737-700             A           148   \n",
            "174100      SOUTHWEST AIRLINES    B-737-700             A           148   \n",
            "174101                BUSINESS  CITATIONJET             A           226   \n",
            "174102             HORIZON AIR  DHC8 DASH 8             A           303   \n",
            "174103  AIR WISCONSIN AIRLINES   CRJ100/200             A           188   \n",
            "\n",
            "       Aircraft Model  ...  Fuselage Strike  Fuselage Damage  \\\n",
            "0                  26  ...                0                0   \n",
            "1                  90  ...                0                0   \n",
            "2                 NaN  ...                0                0   \n",
            "3                 NaN  ...                0                0   \n",
            "4                 NaN  ...                0                0   \n",
            "...               ...  ...              ...              ...   \n",
            "174099           42.0  ...                0                0   \n",
            "174100           42.0  ...                0                0   \n",
            "174101           49.0  ...                1                1   \n",
            "174102           10.0  ...                1                0   \n",
            "174103           10.0  ...                0                0   \n",
            "\n",
            "       Landing Gear Strike  Landing Gear Damage Tail Strike Tail Damage  \\\n",
            "0                        0                    0           1           1   \n",
            "1                        0                    0           0           0   \n",
            "2                        0                    0           0           0   \n",
            "3                        0                    0           0           0   \n",
            "4                        0                    0           0           0   \n",
            "...                    ...                  ...         ...         ...   \n",
            "174099                   0                    0           0           0   \n",
            "174100                   0                    0           0           0   \n",
            "174101                   0                    0           0           0   \n",
            "174102                   0                    0           0           0   \n",
            "174103                   0                    0           0           0   \n",
            "\n",
            "        Lights Strike Lights Damage  Other Strike Other Damage  \n",
            "0                   0             0             0            0  \n",
            "1                   0             0             1            0  \n",
            "2                   0             0             0            0  \n",
            "3                   0             0             0            0  \n",
            "4                   0             0             0            0  \n",
            "...               ...           ...           ...          ...  \n",
            "174099              0             0             0            0  \n",
            "174100              0             0             0            0  \n",
            "174101              0             0             0            0  \n",
            "174102              0             0             0            0  \n",
            "174103              0             0             1            0  \n",
            "\n",
            "[174104 rows x 66 columns]\n"
          ]
        }
      ]
    },
    {
      "cell_type": "code",
      "source": [
        "data1 = pd.DataFrame(columns = ['Height','Speed'], data = data1)"
      ],
      "metadata": {
        "id": "sO3gpWe7fzaB"
      },
      "execution_count": 15,
      "outputs": []
    },
    {
      "cell_type": "code",
      "source": [
        "print('Phương sai: ', data1['Height'].var(),\";\", data1['Speed'].var())\n",
        "print('Độ lệch chuẩn: ', data1['Height'].std(),\";\", data1['Speed'].std())\n",
        "print('Giá trị trung bình: ', data1['Height'].median(),\";\", data1['Speed'].median())\n",
        "print('Giá trị lớn nhất: ', data1['Height'].max(),\";\", data1['Speed'].max())\n",
        "print('Giá trị nhỏ nhất: ', data1['Height'].min(),\";\", data1['Speed'].min())"
      ],
      "metadata": {
        "id": "GDERtrxofNS6",
        "colab": {
          "base_uri": "https://localhost:8080/"
        },
        "outputId": "2cb2e6e9-5dc1-41ed-f8fb-cd65402dadb0"
      },
      "execution_count": 11,
      "outputs": [
        {
          "output_type": "stream",
          "name": "stdout",
          "text": [
            "Phương sai:  3253156.327336807 ; 2200.14013779217\n",
            "Độ lệch chuẩn:  1803.6508329875844 ; 46.905651448329444\n",
            "Giá trị trung bình:  50.0 ; 138.0\n",
            "Giá trị lớn nhất:  31300.0 ; 2500.0\n",
            "Giá trị nhỏ nhất:  0.0 ; 0.0\n"
          ]
        }
      ]
    },
    {
      "cell_type": "markdown",
      "source": [
        ""
      ],
      "metadata": {
        "id": "Lg_q7GpFeyQ6"
      }
    },
    {
      "cell_type": "code",
      "source": [
        "boxplot = data1.boxplot(column = ['Height','Speed'])\n",
        "print(boxplot)\n",
        "print('height xuất hiện hai giá trị ngoại lệ,cột speed có một giá trị ngoại lệ')"
      ],
      "metadata": {
        "colab": {
          "base_uri": "https://localhost:8080/",
          "height": 359
        },
        "id": "qX5C_HDyfogq",
        "outputId": "10458591-72c3-44a0-9e0b-54eb8247e8bc"
      },
      "execution_count": 17,
      "outputs": [
        {
          "output_type": "stream",
          "name": "stderr",
          "text": [
            "/usr/local/lib/python3.7/dist-packages/matplotlib/cbook/__init__.py:1376: VisibleDeprecationWarning: Creating an ndarray from ragged nested sequences (which is a list-or-tuple of lists-or-tuples-or ndarrays with different lengths or shapes) is deprecated. If you meant to do this, you must specify 'dtype=object' when creating the ndarray.\n",
            "  X = np.atleast_1d(X.T if isinstance(X, np.ndarray) else np.asarray(X))\n"
          ]
        },
        {
          "output_type": "stream",
          "name": "stdout",
          "text": [
            "AxesSubplot(0.125,0.125;0.775x0.755)\n",
            "height xuất hiện hai giá trị ngoại lệ,cột speed có một giá trị ngoại lệ\n"
          ]
        },
        {
          "output_type": "display_data",
          "data": {
            "text/plain": [
              "<Figure size 432x288 with 1 Axes>"
            ],
            "image/png": "[encoded data removed]"
          },
          "metadata": {
            "needs_background": "light"
          }
        }
      ]
    },
    {
      "cell_type": "code",
      "source": [
        "Q1 = data1['Height'].quantile(q=.25)\n",
        "Q3 = data1['Height'].quantile(q=.75)\n",
        "print(Q1,Q3)\n",
        "data_height = pd.DataFrame(columns = ['Height'], data = data1)\n",
        "print(data_height.shape)\n",
        "data_no_outlies1 = data_height[(data_height<Q3) & (data_height>Q1)] \n",
        "print(data_no_outlies1.shape)\n",
        "boxplot = data_no_outlies1.boxplot(column = ['Height'])\n",
        "print(boxplot)"
      ],
      "metadata": {
        "colab": {
          "base_uri": "https://localhost:8080/",
          "height": 339
        },
        "id": "cnYb1-tUf5m6",
        "outputId": "45a92fab-ee30-4774-e2bb-1d7147a888e1"
      },
      "execution_count": 19,
      "outputs": [
        {
          "output_type": "stream",
          "name": "stdout",
          "text": [
            "0.0 800.0\n",
            "(174104, 1)\n",
            "(174104, 1)\n",
            "AxesSubplot(0.125,0.125;0.775x0.755)\n"
          ]
        },
        {
          "output_type": "display_data",
          "data": {
            "text/plain": [
              "<Figure size 432x288 with 1 Axes>"
            ],
            "image/png": "[encoded data removed]"
          },
          "metadata": {
            "needs_background": "light"
          }
        }
      ]
    },
    {
      "cell_type": "code",
      "source": [
        "data_height['zscore'] = (data_height - data_height.mean())/data_height.std()\n",
        "print(data_height.head(5))\n",
        "print(data_height[data_height['zscore']>3])\n",
        "print(data_height[data_height['zscore']<0])\n",
        "data_no_outlies2 = data_height[(data_height.zscore<3) & (data_height.zscore>0)]\n",
        "print(data_no_outlies2)\n",
        "boxplot = data_no_outlies2.boxplot(column = ['Height'])\n",
        "print(boxplot)"
      ],
      "metadata": {
        "colab": {
          "base_uri": "https://localhost:8080/",
          "height": 1000
        },
        "id": "IR5Ila9rgATC",
        "outputId": "141eeb8b-bc87-4553-b9cf-52d8a9e79729"
      },
      "execution_count": 20,
      "outputs": [
        {
          "output_type": "stream",
          "name": "stdout",
          "text": [
            "   Height    zscore\n",
            "0     NaN       NaN\n",
            "1     0.0 -0.460750\n",
            "2     NaN       NaN\n",
            "3   200.0 -0.349864\n",
            "4   100.0 -0.405307\n",
            "         Height    zscore\n",
            "59      12000.0  6.192422\n",
            "63      10000.0  5.083560\n",
            "64      10000.0  5.083560\n",
            "173     15000.0  7.855715\n",
            "176     11000.0  5.637991\n",
            "...         ...       ...\n",
            "173745   8000.0  3.974698\n",
            "173767   6700.0  3.253938\n",
            "173936  11000.0  5.637991\n",
            "173953  10000.0  5.083560\n",
            "173994  14000.0  7.301284\n",
            "\n",
            "[2539 rows x 2 columns]\n",
            "        Height    zscore\n",
            "1          0.0 -0.460750\n",
            "3        200.0 -0.349864\n",
            "4        100.0 -0.405307\n",
            "5          0.0 -0.460750\n",
            "10        60.0 -0.427484\n",
            "...        ...       ...\n",
            "174081     0.0 -0.460750\n",
            "174085   600.0 -0.128091\n",
            "174086     0.0 -0.460750\n",
            "174094    10.0 -0.455206\n",
            "174097     0.0 -0.460750\n",
            "\n",
            "[78733 rows x 2 columns]\n",
            "        Height    zscore\n",
            "13      1400.0  0.315453\n",
            "17      1500.0  0.370896\n",
            "36      1000.0  0.093681\n",
            "37      1800.0  0.537226\n",
            "58      2000.0  0.648112\n",
            "...        ...       ...\n",
            "174095  1300.0  0.260010\n",
            "174098  2000.0  0.648112\n",
            "174100  5000.0  2.311405\n",
            "174101  3000.0  1.202543\n",
            "174102  6000.0  2.865836\n",
            "\n",
            "[22405 rows x 2 columns]\n",
            "AxesSubplot(0.125,0.125;0.775x0.755)\n"
          ]
        },
        {
          "output_type": "display_data",
          "data": {
            "text/plain": [
              "<Figure size 432x288 with 1 Axes>"
            ],
            "image/png": "[encoded data removed]"
          },
          "metadata": {
            "needs_background": "light"
          }
        }
      ]
    },
    {
      "cell_type": "markdown",
      "source": [
        "Câu 6: Thực hiện lại câu 3 – 4 với tập dữ liệu sau khi đã loại bỏ ngoại lệ."
      ],
      "metadata": {
        "id": "8Y7gSdTmgIkU"
      }
    },
    {
      "cell_type": "code",
      "source": [
        "print('Phương sai: ', data_no_outlies2['Height'].var())\n",
        "print('Độ lệch chuẩn: ', data_no_outlies2['Height'].std())\n",
        "print('Giá trị trung bình: ', data_no_outlies2['Height'].median())\n",
        "print('Giá trị lớn nhất: ', data_no_outlies2['Height'].max())\n",
        "print('Giá trị nhỏ nhất: ', data_no_outlies2['Height'].min())"
      ],
      "metadata": {
        "colab": {
          "base_uri": "https://localhost:8080/"
        },
        "id": "kOQhGdKzgFFi",
        "outputId": "8f402165-fe0a-4d6b-b833-255ce7dc1098"
      },
      "execution_count": 21,
      "outputs": [
        {
          "output_type": "stream",
          "name": "stdout",
          "text": [
            "Phương sai:  1920242.552645415\n",
            "Độ lệch chuẩn:  1385.7281669380236\n",
            "Giá trị trung bình:  2000.0\n",
            "Giá trị lớn nhất:  6200.0\n",
            "Giá trị nhỏ nhất:  840.0\n"
          ]
        }
      ]
    },
    {
      "cell_type": "markdown",
      "source": [
        "Câu 7: Hãy tính độ tương quan (correlation) giữa các cột định lượng. (Hay xây dựng correlation matrix)"
      ],
      "metadata": {
        "id": "UtgXMospgPdi"
      }
    },
    {
      "cell_type": "code",
      "source": [
        "print(data1['Height'].corr(data1['Speed']))\n",
        "print(data1.corr()) "
      ],
      "metadata": {
        "colab": {
          "base_uri": "https://localhost:8080/"
        },
        "id": "zvpLxNtagJnq",
        "outputId": "44c4796a-fb69-4843-b204-02d2d908ce82"
      },
      "execution_count": 22,
      "outputs": [
        {
          "output_type": "stream",
          "name": "stdout",
          "text": [
            "0.6722484644676722\n",
            "          Height     Speed\n",
            "Height  1.000000  0.672248\n",
            "Speed   0.672248  1.000000\n"
          ]
        }
      ]
    },
    {
      "cell_type": "markdown",
      "source": [
        "Câu 8: Từ correlation matrix, Hãy vẽ:"
      ],
      "metadata": {
        "id": "qkNjz0oHgQV5"
      }
    },
    {
      "cell_type": "code",
      "source": [
        "corr = data1.corr()\n",
        "corr.style.background_gradient(cmap='bwr')"
      ],
      "metadata": {
        "colab": {
          "base_uri": "https://localhost:8080/",
          "height": 112
        },
        "id": "XncAuhFIgMxi",
        "outputId": "f6734eb1-30ea-4018-e667-0f21dbaa6abc"
      },
      "execution_count": 23,
      "outputs": [
        {
          "output_type": "execute_result",
          "data": {
            "text/plain": [
              "<pandas.io.formats.style.Styler at 0x7f554a9b8e90>"
            ],
            "text/html": [
              "<style type=\"text/css\">\n",
              "#T_c2dcd_row0_col0, #T_c2dcd_row1_col1 {\n",
              "  background-color: #ff0000;\n",
              "  color: #f1f1f1;\n",
              "}\n",
              "#T_c2dcd_row0_col1, #T_c2dcd_row1_col0 {\n",
              "  background-color: #0000ff;\n",
              "  color: #f1f1f1;\n",
              "}\n",
              "</style>\n",
              "<table id=\"T_c2dcd_\" class=\"dataframe\">\n",
              "  <thead>\n",
              "    <tr>\n",
              "      <th class=\"blank level0\" >&nbsp;</th>\n",
              "      <th class=\"col_heading level0 col0\" >Height</th>\n",
              "      <th class=\"col_heading level0 col1\" >Speed</th>\n",
              "    </tr>\n",
              "  </thead>\n",
              "  <tbody>\n",
              "    <tr>\n",
              "      <th id=\"T_c2dcd_level0_row0\" class=\"row_heading level0 row0\" >Height</th>\n",
              "      <td id=\"T_c2dcd_row0_col0\" class=\"data row0 col0\" >1.000000</td>\n",
              "      <td id=\"T_c2dcd_row0_col1\" class=\"data row0 col1\" >0.672248</td>\n",
              "    </tr>\n",
              "    <tr>\n",
              "      <th id=\"T_c2dcd_level0_row1\" class=\"row_heading level0 row1\" >Speed</th>\n",
              "      <td id=\"T_c2dcd_row1_col0\" class=\"data row1 col0\" >0.672248</td>\n",
              "      <td id=\"T_c2dcd_row1_col1\" class=\"data row1 col1\" >1.000000</td>\n",
              "    </tr>\n",
              "  </tbody>\n",
              "</table>\n"
            ]
          },
          "metadata": {},
          "execution_count": 23
        }
      ]
    },
    {
      "cell_type": "code",
      "source": [
        "sns.pairplot(data1)"
      ],
      "metadata": {
        "colab": {
          "base_uri": "https://localhost:8080/",
          "height": 392
        },
        "id": "9Y-mhFJDgXW6",
        "outputId": "0144f7db-7db8-43fa-826a-121395683265"
      },
      "execution_count": 24,
      "outputs": [
        {
          "output_type": "execute_result",
          "data": {
            "text/plain": [
              "<seaborn.axisgrid.PairGrid at 0x7f554a98f990>"
            ]
          },
          "metadata": {},
          "execution_count": 24
        },
        {
          "output_type": "display_data",
          "data": {
            "text/plain": [
              "<Figure size 360x360 with 6 Axes>"
            ],
            "image/png": "[encoded data removed]"
          },
          "metadata": {
            "needs_background": "light"
          }
        }
      ]
    },
    {
      "cell_type": "markdown",
      "source": [
        "Câu 9: Đối với các cột dữ liệu định tính, hãy:\n",
        "\n",
        "Vẽ biểu đồ cột dạng đứng\n",
        "\n",
        "Vẽ biểu đồ cột dạng ngang\n",
        "\n",
        "Vẽ biểu đồ đường tròn\n",
        "\n",
        "Vẽ biểu đồ Pareto"
      ],
      "metadata": {
        "id": "hHTbmuXxgcT6"
      }
    },
    {
      "cell_type": "code",
      "source": [
        "print(data['Aircraft Damage'])\n",
        "\n",
        "row = []\n",
        "for i in data:\n",
        "    row.append(i)\n",
        "print(row)\n",
        "print(row.index('Aircraft Damage'))\n",
        "print(len(row))\n",
        "data2 = data.iloc[:,range(36,66)]\n",
        "print(data2)"
      ],
      "metadata": {
        "colab": {
          "base_uri": "https://localhost:8080/"
        },
        "id": "48a7soyFh4ny",
        "outputId": "89708f22-8d8e-4b3e-fea8-0a3adef2e022"
      },
      "execution_count": 45,
      "outputs": [
        {
          "output_type": "stream",
          "name": "stdout",
          "text": [
            "0         1\n",
            "1         0\n",
            "2         0\n",
            "3         0\n",
            "4         0\n",
            "         ..\n",
            "174099    0\n",
            "174100    0\n",
            "174101    1\n",
            "174102    0\n",
            "174103    0\n",
            "Name: Aircraft Damage, Length: 174104, dtype: int64\n",
            "['Record ID', 'Incident Year', 'Incident Month', 'Incident Day', 'Operator ID', 'Operator', 'Aircraft', 'Aircraft Type', 'Aircraft Make', 'Aircraft Model', 'Aircraft Mass', 'Engine Make', 'Engine Model', 'Engines', 'Engine Type', 'Engine1 Position', 'Engine2 Position', 'Engine3 Position', 'Engine4 Position', 'Airport ID', 'Airport', 'State', 'FAA Region', 'Warning Issued', 'Flight Phase', 'Visibility', 'Precipitation', 'Height', 'Speed', 'Distance', 'Species ID', 'Species Name', 'Species Quantity', 'Flight Impact', 'Fatalities', 'Injuries', 'Aircraft Damage', 'Radome Strike', 'Radome Damage', 'Windshield Strike', 'Windshield Damage', 'Nose Strike', 'Nose Damage', 'Engine1 Strike', 'Engine1 Damage', 'Engine2 Strike', 'Engine2 Damage', 'Engine3 Strike', 'Engine3 Damage', 'Engine4 Strike', 'Engine4 Damage', 'Engine Ingested', 'Propeller Strike', 'Propeller Damage', 'Wing or Rotor Strike', 'Wing or Rotor Damage', 'Fuselage Strike', 'Fuselage Damage', 'Landing Gear Strike', 'Landing Gear Damage', 'Tail Strike', 'Tail Damage', 'Lights Strike', 'Lights Damage', 'Other Strike', 'Other Damage']\n",
            "36\n",
            "66\n",
            "        Aircraft Damage  Radome Strike  Radome Damage  Windshield Strike  \\\n",
            "0                     1              1              1                  0   \n",
            "1                     0              0              0                  0   \n",
            "2                     0              0              0                  0   \n",
            "3                     0              0              0                  0   \n",
            "4                     0              0              0                  1   \n",
            "...                 ...            ...            ...                ...   \n",
            "174099                0              0              0                  0   \n",
            "174100                0              0              0                  1   \n",
            "174101                1              0              0                  0   \n",
            "174102                0              0              0                  0   \n",
            "174103                0              0              0                  0   \n",
            "\n",
            "        Windshield Damage  Nose Strike  Nose Damage  Engine1 Strike  \\\n",
            "0                       0            0            0               0   \n",
            "1                       0            0            0               0   \n",
            "2                       0            0            0               0   \n",
            "3                       0            0            0               0   \n",
            "4                       0            0            0               0   \n",
            "...                   ...          ...          ...             ...   \n",
            "174099                  0            0            0               0   \n",
            "174100                  0            0            0               0   \n",
            "174101                  0            0            0               0   \n",
            "174102                  0            0            0               0   \n",
            "174103                  0            0            0               0   \n",
            "\n",
            "        Engine1 Damage  Engine2 Strike  ...  Fuselage Strike  Fuselage Damage  \\\n",
            "0                    0               0  ...                0                0   \n",
            "1                    0               0  ...                0                0   \n",
            "2                    0               0  ...                0                0   \n",
            "3                    0               0  ...                0                0   \n",
            "4                    0               0  ...                0                0   \n",
            "...                ...             ...  ...              ...              ...   \n",
            "174099               0               0  ...                0                0   \n",
            "174100               0               0  ...                0                0   \n",
            "174101               0               0  ...                1                1   \n",
            "174102               0               0  ...                1                0   \n",
            "174103               0               0  ...                0                0   \n",
            "\n",
            "        Landing Gear Strike  Landing Gear Damage  Tail Strike  Tail Damage  \\\n",
            "0                         0                    0            1            1   \n",
            "1                         0                    0            0            0   \n",
            "2                         0                    0            0            0   \n",
            "3                         0                    0            0            0   \n",
            "4                         0                    0            0            0   \n",
            "...                     ...                  ...          ...          ...   \n",
            "174099                    0                    0            0            0   \n",
            "174100                    0                    0            0            0   \n",
            "174101                    0                    0            0            0   \n",
            "174102                    0                    0            0            0   \n",
            "174103                    0                    0            0            0   \n",
            "\n",
            "        Lights Strike  Lights Damage  Other Strike  Other Damage  \n",
            "0                   0              0             0             0  \n",
            "1                   0              0             1             0  \n",
            "2                   0              0             0             0  \n",
            "3                   0              0             0             0  \n",
            "4                   0              0             0             0  \n",
            "...               ...            ...           ...           ...  \n",
            "174099              0              0             0             0  \n",
            "174100              0              0             0             0  \n",
            "174101              0              0             0             0  \n",
            "174102              0              0             0             0  \n",
            "174103              0              0             1             0  \n",
            "\n",
            "[174104 rows x 30 columns]\n"
          ]
        }
      ]
    }
  ]
}